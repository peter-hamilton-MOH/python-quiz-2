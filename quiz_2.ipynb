{
 "cells": [
  {
   "cell_type": "code",
   "execution_count": 2,
   "id": "4e3b7ac1",
   "metadata": {},
   "outputs": [
    {
     "data": {
      "text/html": [
       "\n",
       "<style>\n",
       "@keyframes slow-open {\n",
       "    from {opacity: 0%;}\n",
       "    to {opacity: 100%;}\n",
       "}\n",
       "\n",
       ".quiz-element {\n",
       "    border-radius: 0.4rem;\n",
       "    padding: 10px;\n",
       "}\n",
       "\n",
       ".quiz-question {\n",
       "    opacity: 100%;\n",
       "    background-color: #dbe9ff;\n",
       "    animation-name: slow-open;\n",
       "    animation-duration: 2s;\n",
       "}\n",
       "\n",
       ".quiz-score {\n",
       "    background-color: #dbe9ff;\n",
       "}\n",
       "\n",
       "div.output_area pre {\n",
       "    line-height: 15px !important;\n",
       "    padding: 15px 0 0px 15px !important;   \n",
       "}\n",
       "\n",
       "</style>\n"
      ],
      "text/plain": [
       "<IPython.core.display.HTML object>"
      ]
     },
     "execution_count": 2,
     "metadata": {},
     "output_type": "execute_result"
    }
   ],
   "source": [
    "from IPython.core.display import HTML\n",
    "from quiz_2 import quiz_2\n",
    "from quiz_app import run_quiz, init_css\n",
    "init_css()"
   ]
  },
  {
   "cell_type": "code",
   "execution_count": 3,
   "id": "7d191fc6",
   "metadata": {},
   "outputs": [
    {
     "data": {
      "text/html": [
       "\n",
       "    <div class=\"quiz-score quiz-element\">\n",
       "        <h2>Final score:</h2>\n",
       "        <hr style=\"border-top: 2px solid black;\"/>\n",
       "        8 / 9<br/>88.9%\n",
       "    </div>\n",
       "    "
      ],
      "text/plain": [
       "<IPython.core.display.HTML object>"
      ]
     },
     "metadata": {},
     "output_type": "display_data"
    }
   ],
   "source": [
    "run_quiz(quiz_2)"
   ]
  }
 ],
 "metadata": {
  "celltoolbar": "Slideshow",
  "kernelspec": {
   "display_name": "Python 3 (ipykernel)",
   "language": "python",
   "name": "python3"
  },
  "language_info": {
   "codemirror_mode": {
    "name": "ipython",
    "version": 3
   },
   "file_extension": ".py",
   "mimetype": "text/x-python",
   "name": "python",
   "nbconvert_exporter": "python",
   "pygments_lexer": "ipython3",
   "version": "3.8.5"
  }
 },
 "nbformat": 4,
 "nbformat_minor": 5
}
